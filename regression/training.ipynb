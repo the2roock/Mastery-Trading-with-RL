{
 "cells": [
  {
   "cell_type": "code",
   "execution_count": 9,
   "metadata": {},
   "outputs": [],
   "source": [
    "import os\n",
    "import sys\n",
    "\n",
    "import joblib\n",
    "import numpy as np\n",
    "import pandas as pd\n",
    "import torch\n",
    "\n",
    "from model import BiLSTM\n",
    "\n",
    "sys.path.append(os.path.abspath(os.path.join(os.path.dirname(\".\"), '..')))\n",
    "from etl_data_preparing import DataPrepareETL"
   ]
  },
  {
   "cell_type": "code",
   "execution_count": null,
   "metadata": {},
   "outputs": [],
   "source": [
    "model = BiLSTM()"
   ]
  },
  {
   "cell_type": "code",
   "execution_count": null,
   "metadata": {},
   "outputs": [],
   "source": [
    "learning_rate = 1e-3\n",
    "optimizer = torch.optim.Adam(model.parameters(), lr=learning_rate)\n",
    "loss_function = torch.nn.MSELoss()"
   ]
  },
  {
   "cell_type": "code",
   "execution_count": 16,
   "metadata": {},
   "outputs": [],
   "source": [
    "train_loader, (X_valid, y_valid), (X_test, y_test) = DataPrepareETL(\n",
    "    data=\"../preprocessing/data/BTCUSDT.csv\",\n",
    "    scaler=\"./static/BTCUSDT_MinMaxScaler.pkl\"\n",
    ").prepare_for_train(valid_size=.10, test_size=.10)"
   ]
  },
  {
   "cell_type": "code",
   "execution_count": null,
   "metadata": {},
   "outputs": [],
   "source": [
    "static_dir = \"static/\"\n",
    "best_model_filename = os.path.join(static_dir, \"best_BiLSTM.pkl\")\n",
    "train(epochs=25, best_model_filename=best_model_filename, test_count=1000)"
   ]
  },
  {
   "cell_type": "markdown",
   "metadata": {},
   "source": [
    "# Utils"
   ]
  },
  {
   "cell_type": "code",
   "execution_count": 17,
   "metadata": {},
   "outputs": [],
   "source": [
    "def mae(x, y):\n",
    "    with torch.no_grad():\n",
    "        out = model(x)\n",
    "        errors = abs(out - y)\n",
    "    return errors\n",
    "\n",
    "def train_one_epoch():\n",
    "    train_losses = list()\n",
    "    val_losses = list()\n",
    "    model.train()\n",
    "    for i, (X_batch, y_batch) in enumerate(train_loader):\n",
    "        model.zero_grad()\n",
    "        out = model(X_batch)\n",
    "        loss = loss_function(out, y_batch)\n",
    "        loss.backward()\n",
    "        optimizer.step()\n",
    "\n",
    "        if (i+1) % 25 == 0:\n",
    "            train_losses.append(loss.item())\n",
    "            with torch.no_grad():\n",
    "                val_out = model(X_valid)\n",
    "                val_loss = loss_function(val_out, y_valid)\n",
    "            val_losses.append(val_loss.item())\n",
    "\n",
    "        if (i+1) % 100 == 0:\n",
    "            print(f\"Train Itteration: {i+1}, Train Loss: {loss.item()}, Valid Loss: {val_loss.item()}\")\n",
    "\n",
    "    return train_losses, val_losses\n",
    "\n",
    "\n",
    "def train(epochs: int, best_model_filename: str, test_count: int = 1000):\n",
    "    best_error = np.inf\n",
    "    train_losses = list()\n",
    "    val_losses = list()\n",
    "    for epoch in range(epochs):\n",
    "        tl, vl = train_one_epoch()\n",
    "        train_losses.extend(tl)\n",
    "        val_losses.extend(vl)\n",
    "        epoch_errors = list()\n",
    "        for i in range(0, test_count, 100):\n",
    "            epoch_errors.append(mae(X_valid[i:i+100], y_valid[i:i+100]))\n",
    "        epoch_errors = torch.cat(epoch_errors)\n",
    "        if epoch_errors.mean().item() < best_error:\n",
    "            torch.save(model, best_model_filename)\n",
    "            best_error = epoch_errors.mean().item()\n",
    "        print(\"Epoch:\", epoch+1, \"MAE:\", epoch_errors.mean().item(), \"STD:\", epoch_errors.std().item())\n",
    "    return train_losses, val_losses\n"
   ]
  }
 ],
 "metadata": {
  "kernelspec": {
   "display_name": ".venv",
   "language": "python",
   "name": "python3"
  },
  "language_info": {
   "codemirror_mode": {
    "name": "ipython",
    "version": 3
   },
   "file_extension": ".py",
   "mimetype": "text/x-python",
   "name": "python",
   "nbconvert_exporter": "python",
   "pygments_lexer": "ipython3",
   "version": "3.12.2"
  }
 },
 "nbformat": 4,
 "nbformat_minor": 2
}
